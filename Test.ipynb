{
 "cells": [
  {
   "cell_type": "markdown",
   "metadata": {},
   "source": [
    "### Overview\n",
    "Copy the code from [Medium](https://towardsdatascience.com/how-to-build-your-own-neural-network-from-scratch-in-python-68998a08e4f6)."
   ]
  },
  {
   "cell_type": "code",
   "execution_count": 2,
   "metadata": {},
   "outputs": [],
   "source": [
    "import numpy as np\n",
    "\n",
    "def sigmoid(x):\n",
    "    return 1.0/(1+ np.exp(-x))\n",
    "\n",
    "def sigmoid_derivative(x):\n",
    "    return x * (1.0 - x)\n",
    "\n",
    "class NeuralNetwork:    \n",
    "    \n",
    "    def __init__(self, x, y):\n",
    "        \n",
    "        self.input      = x\n",
    "        self.weights1   = np.random.rand(self.input.shape[1],4) \n",
    "        self.weights2   = np.random.rand(4,1)                 \n",
    "        self.y          = y\n",
    "        self.output     = np.zeros(y.shape)\n",
    "    \n",
    "    def feedforward(self):\n",
    "        self.layer1 = sigmoid(np.dot(self.input, self.weights1))\n",
    "        self.output = sigmoid(np.dot(self.layer1, self.weights2))\n",
    "        \n",
    "    def backprop(self):\n",
    "        # application of the chain rule to find derivative of the loss function with respect to weights2 and weights1\n",
    "        d_weights2 = np.dot(self.layer1.T, (2*(self.y - self.output) * sigmoid_derivative(self.output)))\n",
    "        d_weights1 = np.dot(self.input.T,  (np.dot(2*(self.y - self.output) * sigmoid_derivative(self.output), self.weights2.T) * sigmoid_derivative(self.layer1)))\n",
    "\n",
    "        # update the weights with the derivative (slope) of the loss function\n",
    "        self.weights1 += d_weights1\n",
    "        self.weights2 += d_weights2"
   ]
  },
  {
   "cell_type": "code",
   "execution_count": 3,
   "metadata": {},
   "outputs": [
    {
     "name": "stdout",
     "output_type": "stream",
     "text": [
      "[[0.01875185]\n",
      " [0.98102158]\n",
      " [0.97714535]\n",
      " [0.02271424]]\n"
     ]
    }
   ],
   "source": [
    "X = np.array([[0,0,1],\n",
    "              [0,1,1],\n",
    "              [1,0,1],\n",
    "              [1,1,1]])\n",
    "y = np.array([[0],[1],[1],[0]])\n",
    "nn = NeuralNetwork(X,y)\n",
    "\n",
    "for i in range(1500):\n",
    "    nn.feedforward()\n",
    "    nn.backprop()\n",
    "\n",
    "print(nn.output)"
   ]
  },
  {
   "cell_type": "markdown",
   "metadata": {},
   "source": [
    "### Details\n",
    "The neural network above has 2 fully connected layers, with sigmoid activations. For simplicity the biases of the fully connected layers were set to 0.\n",
    "\n",
    "#### Fully Connected Layer\n",
    "A fully connected layer is simply the following function, where $n,m \\in \\mathbb{N}$ are positive integers.\n",
    "\n",
    "$$ f_{W,b} (x) = Wx + b, \\quad x \\in \\mathbb{R}^n, W \\in \\mathbb{R^{m\\times n}}, b \\in \\mathbb{R}^m. $$\n",
    "\n",
    "This is the general form of an affine linear transform of $x$ from an $n$-dimensional vector space to an $m$-dimensional vector space. It is said to be fully connected because each element of the output depends of every element of the input, that is if $y = f_{W,b} (x)$ then in Einstein notation\n",
    "\n",
    "$$ y_i = W_{ij} x_j + b_i $$\n",
    "\n",
    "which implies\n",
    "\n",
    "$$ \\frac{\\partial y_i}{\\partial x_j} = W_{ij}, \\quad \\text{for all } i= 1, \\ldots, m, \\, j = 1, \\ldots, n. $$\n",
    "\n",
    "In particular $y_i$ is dependent on $x_j$ for each $i$ and $j$, unless $W_{ij} = 0$.\n",
    "\n",
    "#### Sigmoid Activation\n",
    "Activation functions are typically mappings $g:\\mathbb{R}^m \\rightarrow \\mathbb{R}^m$, that act as filters on the input values, for example by bounding the output values into a finte range. \n",
    "\n",
    "\n",
    "The sigmoid function here is defined by\n",
    "\n",
    "$\\sigma(x) = \\frac{1}{1+e^{-x}}$.\n",
    "\n",
    "Since $e^{-x} > 0$, this implies $\\sigma(x) < 1$, and $\\sigma(x)>0$ is clear. As such, a sigmoid activation bounds values to the range $(0,1)$."
   ]
  },
  {
   "cell_type": "code",
   "execution_count": 20,
   "metadata": {},
   "outputs": [
    {
     "data": {
      "image/png": "[encoded data removed]",
      "text/plain": [
       "<Figure size 432x288 with 1 Axes>"
      ]
     },
     "metadata": {},
     "output_type": "display_data"
    }
   ],
   "source": [
    "import matplotlib.pyplot as plt\n",
    "\n",
    "x = np.linspace(-10,10,500)\n",
    "y = 1.0/(1.0+np.exp(-x))\n",
    "\n",
    "plt.xlabel('$x$',fontsize=14)\n",
    "plt.ylabel('$\\sigma(x)$',fontsize=14)\n",
    "plt.plot(x,y)\n",
    "plt.plot(x,0.5*np.ones((500,1)),'r-.')\n",
    "plt.title('Sigmoid Activation', fontsize=16)\n",
    "plt.show()"
   ]
  },
  {
   "cell_type": "markdown",
   "metadata": {},
   "source": [
    "#### Neural Network\n",
    "\n",
    "##### Forward\n",
    "At the most abstract level, a forward pass of a neural network is simply a sequence of functions, $f_1, \\ldots, f_\\lambda$, such that\n",
    "\n",
    "$$ \\hat{y} = f_\\lambda \\circ f_{\\lambda-1} \\circ \\ldots \\circ f_1 (x). $$\n",
    "\n",
    "Here $\\hat{y}$ denotes an \"approximator\" to $y$, since $y$ will typically denote the \"true value\" the network is trying to predict.\n",
    "\n",
    "For each $f_i$ there may be associated parameters $\\omega_{i_j}$. For example the fully connected layer $f_{W,b} = Wx + b$ had parameters $W$ and $b$. In this case these parameters are called the weights and bias respectively.\n",
    "\n",
    "The aim of \"training\" a neural network is to tune such parameters so that $\\hat{y}$ is a good approximation to $y$. A good approximation is quantified by a loss function.\n",
    "\n",
    "##### Loss Function\n",
    "\n",
    "The simplest loss function is the mean square error. Given a set of true values $\\{ y_i \\}_{i=1 ^N}$ and a set of approximations $\\{ \\hat{y}_i \\}_{i= 1^N}$ the mean square error is simply\n",
    "\n",
    "$$ L(y, \\hat{y}) = \\frac{1}{N} \\sum_{i=1}^N |y_i - \\hat{y}_i|^2 . $$\n",
    "\n",
    "When $\\hat{y}$ is the output of a neural network, there are hidden parameters $\\omega_1, \\ldots, \\omega_P$ such that\n",
    "\n",
    "$$ \\hat{y}_i = \\hat{y}_i (\\omega_1, \\ldots, \\omega_P). $$\n",
    "\n",
    "As such we can reinterpret the loss function in terms of these parameters\n",
    "\n",
    "$$ \\widetilde{L} (y, \\omega_1, \\ldots, \\omega_P) = L(y,\\hat{y})$$.\n",
    "\n",
    "The goal is then to minimise $\\widetilde{L}$ with respect to $\\omega_1, \\ldots, \\omega_P$, as these are simply model parameters which we are free to choose.\n",
    "\n",
    "Calculus shows that if $\\widetilde{L}$ is not minimised for some choice of $\\omega_1, \\ldots, \\omega_P$, then the best update for these parameters to minimize $\\widetilde{L}$ is to use gradient descent\n",
    "\n",
    "$$ \\omega_i \\rightarrow \\omega_i - \\frac{\\partial \\widetilde{L}}{\\partial \\omega_i} $$\n",
    "\n",
    "This can overshoot the desired update, so an additional parameter is added, the learning rate $\\gamma>0$ so that\n",
    "\n",
    "$$ \\omega_i \\rightarrow \\omega_i - \\gamma \\frac{\\partial \\widetilde{L}}{\\partial \\omega_i}. $$\n",
    "\n",
    "In fact, the learning rate can be chosen more specifically, for example it could depend on the number of updates (iterations) that have occured.\n",
    "\n",
    "###### Chain Rule\n",
    "\n",
    "Recall that in a neural network\n",
    "\n",
    "$$ \\hat{y} = f_\\lambda \\circ f_{\\lambda-1} \\circ \\ldots f_1 (x). $$\n",
    "\n",
    "Let $\\omega_{i,j}$ denote the parameters of $f_{j}$, that is $f_j$ has parameters $\\omega_{1,j}, \\omega_{2,j}, \\ldots, \\omega_{P_j, j}$.\n",
    "\n",
    "When there are many layers, $\\lambda$ is large, it would be difficult to compute the partial derivatives\n",
    "\n",
    "$$ \\frac{\\partial \\widetilde{L}}{\\partial \\omega_{i,j}} $$ \n",
    "\n",
    "for most layers, besides the final layer $j=\\lambda$. The chain rule helps make this computation simpler, since $\\hat{y}$ is simply a sequence of compositions. The following holds. Let $g_{k}$ denote the following\n",
    "\n",
    "$$ g_k = f_k \\circ f_{k-1} \\circ \\ldots f_1 . $$\n",
    "\n",
    "Then\n",
    "\n",
    "$$ \\widetilde{L}(y, \\omega_{i,j}) = L(y, \\hat{y}) = L(y, f_\\lambda(g_{\\lambda-1} (x)) $$\n",
    "\n",
    "Then \n",
    "\n",
    "$$ \\frac{\\partial \\widetilde{L}}{\\partial \\omega_{i,j}} = \\frac{\\partial L}{\\partial \\hat{y}} \\frac{\\partial f_\\lambda \\circ g_{\\lambda-1}}{\\partial \\omega_{i,j}}. $$\n",
    "\n",
    "By the chain rule, if $j < \\lambda$ we have that\n",
    "\n",
    "$$ \\frac{ \\partial \\widetilde{L}}{\\partial \\omega_{i,j}} = D_{\\hat{y}} L Df_{\\lambda} \\frac{\\partial g_{\\lambda -1}}{\\partial \\omega_{i,j}}. $$\n",
    "\n",
    "By induction it follows that\n",
    "\n",
    "$$ \\frac{\\partial \\widetilde{L}}{\\partial \\omega_{i,j}} = D_{\\hat{y}} L \\Pi_{k=\\lambda} ^{j} Df_{k}  \\frac{\\partial f_j}{\\partial \\omega_{i,j}}. $$\n",
    "\n",
    "The point of this is that you simply need the derivatives of each $f_j$ with respect to its parameters and inputs to compute the derivative of the loss with respect to the parameters.\n",
    "\n",
    "As such the computation is well suited for looping over. This is called backpropagation. \n",
    "\n",
    "##### Backpropagation\n",
    "\n",
    "Backpropagation is the way the parameters in a neural network are updated. After comparing the predictions $\\hat{y}_1, \\ldots, \\hat{y}_N$ to the true values $y_1, \\ldots, y_N$ via a loss function $L(y, \\hat{y})$, the gradients of $L$ with respect to the parameters of the network are computed by \"backpropagating\" derivatives of the layers in the network.\n",
    "\n",
    "By computing the derivatives of $L$ with respect to the parameters in the last layer, it becomes an inductive exercise to compute the necessary derivatives for all other parameters. At the end of this induction, the parameters can be updated. The key thing is that each layer must know it's derivatives of outputs with respect to inputs, where inputs here includes the parameters for that layer.\n",
    "\n",
    "For a fully connected layer this is easy:\n",
    "\n",
    "$$ y = f_{W,b} (x) \\Rightarrow y_i = W_{ij} x_j + b_i. $$\n",
    "\n",
    "As such\n",
    "\n",
    "$$ \\frac{\\partial y_i}{\\partial x_j} = W_{ij}, \\quad \\frac{\\partial y_i}{\\partial W_{jk}} = \\delta_{ij} x_k, \\quad \\frac{\\partial y_i}{\\partial b_j} = \\delta_{ij}. $$"
   ]
  },
  {
   "cell_type": "code",
   "execution_count": null,
   "metadata": {},
   "outputs": [],
   "source": []
  }
 ],
 "metadata": {
  "kernelspec": {
   "display_name": "Python 3",
   "language": "python",
   "name": "python3"
  },
  "language_info": {
   "codemirror_mode": {
    "name": "ipython",
    "version": 3
   },
   "file_extension": ".py",
   "mimetype": "text/x-python",
   "name": "python",
   "nbconvert_exporter": "python",
   "pygments_lexer": "ipython3",
   "version": "3.6.6"
  }
 },
 "nbformat": 4,
 "nbformat_minor": 2
}
