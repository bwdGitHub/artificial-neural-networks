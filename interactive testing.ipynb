{
 "cells": [
  {
   "cell_type": "code",
   "execution_count": 1,
   "metadata": {},
   "outputs": [],
   "source": [
    "import ann\n",
    "import layers\n",
    "nn = ann.ann_by_layers(layers = [layers.fc(20), layers.relu(), layers.fc(10)])"
   ]
  },
  {
   "cell_type": "code",
   "execution_count": 2,
   "metadata": {},
   "outputs": [
    {
     "data": {
      "text/plain": [
       "[<layers.fc at 0x4e6cfd0>,\n",
       " <layers.relu at 0x4e89048>,\n",
       " <layers.fc at 0x4e893c8>]"
      ]
     },
     "execution_count": 2,
     "metadata": {},
     "output_type": "execute_result"
    }
   ],
   "source": [
    "nn.layers"
   ]
  },
  {
   "cell_type": "code",
   "execution_count": 3,
   "metadata": {},
   "outputs": [
    {
     "data": {
      "text/plain": [
       "array([[ 3],\n",
       "       [ 5],\n",
       "       [ 7],\n",
       "       [ 9],\n",
       "       [11],\n",
       "       [ 2],\n",
       "       [ 1],\n",
       "       [ 0],\n",
       "       [-1],\n",
       "       [-2]])"
      ]
     },
     "execution_count": 3,
     "metadata": {},
     "output_type": "execute_result"
    }
   ],
   "source": [
    "import numpy as np\n",
    "x = np.arange(1,6)\n",
    "x = x[:,None]\n",
    "y = np.concatenate((2*x+1, 3-x))\n",
    "y"
   ]
  },
  {
   "cell_type": "code",
   "execution_count": 4,
   "metadata": {},
   "outputs": [],
   "source": [
    "def initialize_weight(sz):\n",
    "    w = np.random.normal(size = sz)\n",
    "    return w\n",
    "\n",
    "# nn.layers[0].get_training_parameters()\n",
    "# for this to be useful for initializing weights, I need to know the size given input data. \n",
    "# i.e. size information must be forwarded through the network\n",
    "\n",
    "nn.layers[0].W = initialize_weight((20,5))\n",
    "nn.layers[0].b = initialize_weight((20,1))\n",
    "nn.layers[2].W = initialize_weight((10,20))\n",
    "nn.layers[2].b = initialize_weight((10,1))"
   ]
  },
  {
   "cell_type": "code",
   "execution_count": 5,
   "metadata": {},
   "outputs": [
    {
     "data": {
      "text/plain": [
       "(10, 1)"
      ]
     },
     "execution_count": 5,
     "metadata": {},
     "output_type": "execute_result"
    }
   ],
   "source": [
    "z = nn.layers[0].forward(x)\n",
    "z.shape\n",
    "z2 = nn.layers[2].forward(z)\n",
    "z3 = nn.forward(x)\n",
    "z3.shape"
   ]
  },
  {
   "cell_type": "code",
   "execution_count": 6,
   "metadata": {},
   "outputs": [
    {
     "data": {
      "text/plain": [
       "3876.030085453945"
      ]
     },
     "execution_count": 6,
     "metadata": {},
     "output_type": "execute_result"
    }
   ],
   "source": [
    "loss = layers.mse()\n",
    "loss.forward(z3, y)"
   ]
  },
  {
   "cell_type": "code",
   "execution_count": null,
   "metadata": {},
   "outputs": [],
   "source": []
  }
 ],
 "metadata": {
  "kernelspec": {
   "display_name": "Python 3",
   "language": "python",
   "name": "python3"
  },
  "language_info": {
   "codemirror_mode": {
    "name": "ipython",
    "version": 3
   },
   "file_extension": ".py",
   "mimetype": "text/x-python",
   "name": "python",
   "nbconvert_exporter": "python",
   "pygments_lexer": "ipython3",
   "version": "3.6.6"
  }
 },
 "nbformat": 4,
 "nbformat_minor": 2
}
