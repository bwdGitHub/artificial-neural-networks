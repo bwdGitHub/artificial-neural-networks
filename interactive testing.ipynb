{
 "cells": [
  {
   "cell_type": "markdown",
   "metadata": {},
   "source": [
    "### Interactive Testing\n",
    "Some interactive \"sanity check\" scripts to verify things are working."
   ]
  },
  {
   "cell_type": "code",
   "execution_count": 8,
   "metadata": {},
   "outputs": [],
   "source": [
    "# Attempt to train on generated data.\n",
    "\n",
    "import ann\n",
    "import layers\n",
    "import numpy as np\n",
    "net = ann.mlp(InputSize = 10, HiddenSizes = [8,4])\n",
    "\n",
    "# have to append a final FC, \n",
    "# since the mlp helper adds a final relu, \n",
    "# probably better to have an option to not do that...\n",
    "net.layers.append(layers.fc(InputSize=4, NumHidden = 2)) \n",
    "\n",
    "# create fake data\n",
    "xs = []\n",
    "ys = []\n",
    "\n",
    "numdata = 2000\n",
    "for i in range(numdata):\n",
    "    x = 10*np.random.random(size = (10,1))-5\n",
    "    xs.append(x)\n",
    "    \n",
    "    # y = (|x|^2, 2|x|+1)\n",
    "    y1 = np.linalg.norm(x, ord = 2) \n",
    "    y2 = 2*np.linalg.norm(x, ord = 1)+1\n",
    "    y = np.expand_dims(np.array([y1, y2]),-1)\n",
    "    ys.append(y)\n",
    "    \n",
    "# split into train/test data\n",
    "xtrain = xs[1:numdata//2]\n",
    "ytrain = ys[1:numdata//2]\n",
    "xtest = xs[numdata//2:]\n",
    "ytest = ys[numdata//2:]\n",
    "\n",
    "# Initialize the weights\n",
    "net.initialize_training_parameters()\n",
    "\n",
    "# loss function\n",
    "loss = layers.mse()\n",
    "\n",
    "# define training iteration\n",
    "# Basic SGD is built into the ann_by_layers class.\n",
    "# Not super flexible...\n",
    "def train(net, xs, ys, iters, step=0.01):\n",
    "    for iter in range(iters):\n",
    "        x = xs[iter%len(xs)]\n",
    "        y = ys[iter%len(ys)]\n",
    "        updates = net.backprop_updates(x,y,loss,lr = step)\n",
    "        net.update_training_parameters(updates)\n",
    "\n",
    "# Define the loss of the network with inputs xs and target ys.\n",
    "def error(net, xs, ys):\n",
    "    e = 0\n",
    "    for x,y in zip(xs, ys):\n",
    "        z = net.forward(x)        \n",
    "        squareError = np.sum(np.power(y-z,2))\n",
    "        e = e+squareError\n",
    "    e = e/len(xs)\n",
    "    e = np.sqrt(e)\n",
    "    return e\n",
    "\n",
    "\n",
    "testErrors = []\n",
    "for i in range(100):\n",
    "    iters = 10\n",
    "    index = np.random.randint(0,500-iters)\n",
    "    train(net, xtrain[index:(index+iters)], ytrain[index:(index+iters)],iters)\n",
    "    e = error(net, xtest, ytest)\n",
    "    testErrors.append(e)"
   ]
  },
  {
   "cell_type": "code",
   "execution_count": 9,
   "metadata": {},
   "outputs": [
    {
     "data": {
      "image/png": "[encoded data removed]",
      "text/plain": [
       "<Figure size 432x288 with 1 Axes>"
      ]
     },
     "metadata": {},
     "output_type": "display_data"
    }
   ],
   "source": [
    "import matplotlib.pyplot as plt\n",
    "plt.plot(testErrors)\n",
    "plt.xlabel('Iteration')\n",
    "plt.ylabel('Loss')\n",
    "plt.title('Training Loss')\n",
    "plt.show()"
   ]
  }
 ],
 "metadata": {
  "kernelspec": {
   "display_name": "Python 3",
   "language": "python",
   "name": "python3"
  },
  "language_info": {
   "codemirror_mode": {
    "name": "ipython",
    "version": 3
   },
   "file_extension": ".py",
   "mimetype": "text/x-python",
   "name": "python",
   "nbconvert_exporter": "python",
   "pygments_lexer": "ipython3",
   "version": "3.6.6"
  }
 },
 "nbformat": 4,
 "nbformat_minor": 2
}
